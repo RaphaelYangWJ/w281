{
 "cells": [
  {
   "cell_type": "markdown",
   "metadata": {},
   "source": [
    "# Assignment 6: Lighting Estimation\n",
    "\n",
    "MIDS W281: Computer Vision"
   ]
  },
  {
   "cell_type": "markdown",
   "metadata": {},
   "source": [
    "## Recommended Libraries"
   ]
  },
  {
   "cell_type": "code",
   "execution_count": null,
   "metadata": {},
   "outputs": [],
   "source": [
    "from scipy.io import loadmat\n",
    "import numpy as np\n",
    "import matplotlib.pyplot as plt"
   ]
  },
  {
   "cell_type": "markdown",
   "metadata": {},
   "source": [
    "![Hybrid Teaser](images/sphere.png)"
   ]
  },
  {
   "cell_type": "markdown",
   "metadata": {},
   "source": [
    " ### Overview\n",
    "Lighting estimation is critical for many computer vision applications, and demonstrates a common use of least squares operations on pixel values. Accurate estimation of the lighting environment under which an image was captured can be used for image forensics, image re-lighting, 3D surface modeling, and compositing images with rendered objects, and many other techniques. For this assignment we will compute the lighting direction for a simple toy problem consisting of a sphere with faceted edges.\n",
    "\n",
    "Consider the illuminated sphere shown above. If, as in this case, the light illuminating the sphere is distant and the sphere is a Lambertian surface, the amount of light $I$ that strikes any point ($X,Y,Z$) on the sphere's surface is equal to the dot product between the 3-D surface normal $N$ at ($X,Y,Z$) and the single 3-D vector $L$ which specifies the direction to the light source. In this assignment, you will estimate the direction to the light $L$ using least squares. You can assume that there is only one light source in the scene and there is no ambient light.\n",
    "\n",
    "### Description\n",
    "\n",
    "1. Write a Python code to load the given 3-D [$X$-](X.npy), [$Y$-](Y.npy), and [$Z$-](Z.npy) coordinates of the sphere and the corresponding illumination [$I$](I.npy). After loading the files you will have four 41 x 41 matrices corresponding to the illumination $I$ and the $X$-, $Y$-, and $Z$- coordinates of the sphere. That is, for any $u$ and $v$ between 1 and 41, the illumination on the sphere's surface at ($X_{u,v},Y_{u,v},Z_{u,v}$) is $I_{u,v}$. Display this sphere using the `plot_surface` method in Python. Set the color values so that the displayed sphere looks like the above image without the $L$ and $N$ arrows.  \n",
    "&nbsp;\n",
    "\n",
    "2. For each ($X,Y,Z$) on the sphere's surface, determine the surface normal $N$. The surface normal at any point on the sphere is a vector from the sphere origin to the point. Since the sphere is centered at the origin, this is a simple calculation. The surface normal should be specified as a unit vector.  \n",
    "&nbsp;  \n",
    "\n",
    "3. Using least-squares, estimate the lighting (a 3-D vector). Your solution should create an over constrained system of linear equations in the surface normal and illumination at each point ($X,Y,Z$) on the sphere's surface that is not in shadow (i.e. intensity is greater than zero). Your solution for the light vector $L$ is determined by solving this system of linear equations using least-squares.   \n",
    "&nbsp;\n",
    "\n",
    "**Do not use pseudo inverse functions like `numpy.linalg.pinv` or least squares functions `numpy.linalg.lstsq`.**\n",
    "\n",
    "### Deliverables:\n",
    "\n",
    "- Python code for computing the sphere normals and the light direction\n",
    "- A plot displaying the 3-D sphere\n",
    "- The 3-D direction of the light source"
   ]
  },
  {
   "cell_type": "markdown",
   "metadata": {},
   "source": [
    "#### Create your functions"
   ]
  },
  {
   "cell_type": "code",
   "execution_count": null,
   "metadata": {},
   "outputs": [],
   "source": [
    "def plot_save_sphere(X,Y,Z,C,out_file):\n",
    "    # write a function that takes the \n",
    "    # X,Y,Z and I NumPy array files as arguments,\n",
    "    # plots the sphere,\n",
    "    # then saves the figure to the out_file\n",
    "    \n",
    "    # display the sphere\n",
    "    \n",
    "    # plot and save the deliverable \n",
    "    plt.title('Plot the Sphere')\n",
    "    plt.tight_layout(pad=5.08, h_pad=None, w_pad=None, rect=None)\n",
    "    plt.savefig(out_file, bbox_inches='tight')\n",
    "    plt.show()\n",
    "\n",
    "    pass\n",
    "\n",
    "def compute_normals(X,Y,Z):\n",
    "    \n",
    "    N = np.zeros((41*41, 3)) # your code should fill in the values for sphere normals\n",
    "    \n",
    "    # write a function that takes the \n",
    "    # X,Y,Z array files as arguments,\n",
    "    # each input is of size (41, 41)\n",
    "    # output N of size (41*41, 3)\n",
    "    \n",
    "    # TODO: vectorize the inputs to (41*41, 1)\n",
    "    \n",
    "    # TODO compute the normal at each point on the sphere\n",
    "    \n",
    "    # TODO calculate the 2-norm of each normal\n",
    "\n",
    "    # TODO divide each Normal by its norm\n",
    "    \n",
    "    return N"
   ]
  },
  {
   "cell_type": "markdown",
   "metadata": {},
   "source": [
    "#### Run your code"
   ]
  },
  {
   "cell_type": "code",
   "execution_count": null,
   "metadata": {},
   "outputs": [],
   "source": [
    "# load the npy and plot the sphere\n",
    "X = np.load('X.npy')\n",
    "Y = np.load('Y.npy')\n",
    "Z = np.load('Z.npy')\n",
    "I = np.load('I.npy')\n",
    "\n",
    "# plot the sphere\n",
    "plot_save_sphere(X,Y,Z, np.concatenate((I[:,:,np.newaxis],\n",
    "                                        I[:,:,np.newaxis],\n",
    "                                        I[:,:,np.newaxis]), axis=2), 'temp.png')\n",
    "\n",
    "\n",
    "N = compute_normals(X,Y,Z)"
   ]
  },
  {
   "cell_type": "markdown",
   "metadata": {},
   "source": [
    "#### Calculate and print the 3D direction of light source"
   ]
  },
  {
   "cell_type": "code",
   "execution_count": null,
   "metadata": {},
   "outputs": [],
   "source": [
    "# TODO calculate light direction using least squares\n",
    "# vectorize I \n",
    "# consider only those points which are not in shadow\n",
    "# solve for the light direction using least squares, remember I = N . l where l is the light direction\n",
    "\n",
    "# print the light direction\n",
    "print(l)"
   ]
  },
  {
   "cell_type": "code",
   "execution_count": null,
   "metadata": {},
   "outputs": [],
   "source": []
  }
 ],
 "metadata": {
  "kernelspec": {
   "display_name": "Python 3 (ipykernel)",
   "language": "python",
   "name": "python3"
  },
  "language_info": {
   "codemirror_mode": {
    "name": "ipython",
    "version": 3
   },
   "file_extension": ".py",
   "mimetype": "text/x-python",
   "name": "python",
   "nbconvert_exporter": "python",
   "pygments_lexer": "ipython3",
   "version": "3.7.6"
  }
 },
 "nbformat": 4,
 "nbformat_minor": 2
}
