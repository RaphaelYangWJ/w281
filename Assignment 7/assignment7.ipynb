{
 "cells": [
  {
   "cell_type": "markdown",
   "metadata": {},
   "source": [
    "# Assignment 7: Expectation Maximization\n",
    "\n",
    "MIDS W281: Computer Vision"
   ]
  },
  {
   "cell_type": "markdown",
   "metadata": {},
   "source": [
    "## Recommended Libraries"
   ]
  },
  {
   "cell_type": "code",
   "execution_count": null,
   "metadata": {},
   "outputs": [],
   "source": [
    "import numpy as np\n",
    "import matplotlib.pyplot as plt\n",
    "import os\n",
    "import cv2\n",
    "from skimage.color import rgb2gray\n",
    "import skimage.feature\n",
    "from matplotlib.patches import Circle"
   ]
  },
  {
   "cell_type": "markdown",
   "metadata": {},
   "source": [
    "![Hybrid Teaser](https://raw.githubusercontent.com/W281/fileRepository/main/Assignments/output.gif)"
   ]
  },
  {
   "cell_type": "markdown",
   "metadata": {},
   "source": [
    " ### Overview\n",
    "In tasks with noisy input data, it is often necessary to estimate parameters using an iterative approach. To illustrate this, we have provided you a realistic (but very simple) optimization problem. \n",
    "\n",
    "You are tasked with writing the software for a parts inspection system. The input to this system is a color image of a circular part. Your task is to locate and fit a circle (center and radius) to the part, and then determine whether the size of the part (its radius) is within a specified tolerance. You will use the expectation/maximization (EM) algorithm to simultaneously locate the boundary of the circular part, fit a circle to the part, and estimate the goodness of the fit.\n",
    "\n",
    "### Description\n",
    "\n",
    "1. To begin, your system should load a color (RGB) image, convert the image to grayscale, and extract the salient edges in the image. You can use the Canny edge detector from Python's OpenCV library to find the edges. This function will return a binary image with a value of 1 at a pixel location corresponding to a salient edge and 0 otherwise. Note that you will need to play around with the size of the filter to get a useful output. You might need to exclude the edges of the image and then extract the x- and y-coordinates of all pixels with an edge value equal to 1 (see numpy's `argwhere`). It is from these coordinates that we will find and fit a circle.  \n",
    "\n",
    "2. The coordinates of each edge pixel correspond to one of two models:   \n",
    "    (1) a circle with center $(c_x,c_y)$ and radius $(r)$; or  \n",
    "    (2) an \"outlier\" model.  \n",
    "    The probability of belonging to model 1 will be modeled as a Gaussian distribution $(g(d) = exp(-d^2/σ)$ and will depend on the distance, $d$, of each point to the circle. The probability of belonging to model 2 will be modeled as a uniform distribution and fixed to be 1/10.  \n",
    "    **HINT:** Think about which kind of probability was provided for models 1 and 2, and how it is used throughout the entire EM process.\n",
    "\n",
    "3. You should begin your EM iterations by initializing $(c_x,c_y)$ to be the image center, $r=190$ pixels, and $σ=128$.   \n",
    "\n",
    "4. In the E-step, the residual error for model 1 is based on the shortest distance, $d$, between a point $(x,y)$ and the current estimate of the circle with center $(c_x,c_y)$ and radius, $r$. This distance is:  \n",
    "    $$d=\\left\\lvert \\sqrt{ (x-c_x)^2 + (y-c_y)^2} - r \\right\\rvert$$\n",
    "    \n",
    "5. In the M-step, you will use weighted total least-squares to re-estimate the paramters of the circle. First, implement the total least-squares estimator described in Section 2 of this [paper](gander_golub_strebel.pdf). The weights of weighted total least-squares estimator are computed in the E-step. Incorporate this weighting into your total least-squares estimator. \n",
    "\n",
    "6. After performing the E- and M-step, update the value of $σ$.\n",
    "\n",
    "7. Repeatedly perform the E- and M-steps until the difference between subsequent estimates of the circle center and radius are each less than 0.1 pixels.  \n",
    "\n",
    "8. As shown in the sample output above, on each EM iteration you should display two images:  \n",
    "    (1) the current circle superimposed on top of the original RGB image;  \n",
    "    (2) the current probability of each pixel location belonging to model 1 visualized as an image. \n",
    "    \n",
    "9. Show your final fitting results on the five images provided in the \"discs\" directory.  \n",
    "**If your solution is similar to ours, it might fail on the image disc4.jpg. If so, fix this failure by choosing a better initial value for $(c_x, c_y)$.**   "
   ]
  },
  {
   "cell_type": "markdown",
   "metadata": {},
   "source": [
    "### Deliverables:\n",
    "\n",
    "- Python code to perform the above EM algorithm.  \n",
    "- Plots showing the steps for for EM for each of the image.  \n",
    "- Plot showing the final fitting results, i.e. the circle super-imposed on the RGB disc image."
   ]
  },
  {
   "cell_type": "markdown",
   "metadata": {},
   "source": [
    "### Create your Function to execute the above steps"
   ]
  },
  {
   "cell_type": "code",
   "execution_count": null,
   "metadata": {},
   "outputs": [],
   "source": [
    "def find_EM(fileName):\n",
    "    # write a function that takes the the filename of an image,\n",
    "    # converts the image to grayscale,\n",
    "    # calculates the edges using the Canny edge detector,\n",
    "    # runs EM process and plots/displays \n",
    "    # each step of the process.\n",
    "    # function should NOT return anything.\n",
    "\n",
    "    # Load the image\n",
    "    rgb_im = plt.imread(fileName)\n",
    "\n",
    "    # convert to grayscale\n",
    "    ## TODO im = ??? (convert to grayscale)\n",
    "\n",
    "    # Find edge cordinate\n",
    "\n",
    "    ## TODO use skimage.feature.canny to find the edges\n",
    "    ## NOTE: experiment with the parameters to find a reasonable amount of points (<10k)\n",
    "    ## TODO edgeIm = ???\n",
    "\n",
    "    ## find the x-y cordinates with edge == 1 **hint: use np.argwhere\n",
    "    # TODO cord = ???\n",
    "\n",
    "    ## create X and Y arrays for the coordinates\n",
    "    Y = cord[:, 0]\n",
    "    X = cord[:, 1]\n",
    "\n",
    "    # Print the number of points\n",
    "    print(f'Number of Points: {noOfPoints}')\n",
    "\n",
    "    # display the image and plot the edge coordinates\n",
    "    ## display the image \n",
    "    plt.imshow(im) \n",
    "    plt.plot(X, Y, 'r.')\n",
    "    plt.show()\n",
    "\n",
    "    # Expectation/Maximization\n",
    "    ## intialize new center (cx, cy)/2 and radius to 190\n",
    "    new_cx = im.shape[1] / 2.0 # 210\n",
    "    new_cy = im.shape[0] / 2.0 # 320\n",
    "    new_r = 190\n",
    "\n",
    "    prev_cx = 0\n",
    "    prev_cy = 0\n",
    "    prev_r = 0\n",
    "\n",
    "    ## initial sigma\n",
    "    sigma = 128\n",
    "\n",
    "    # create empty arrays for expectation and d that correspond to the number of coordinates previously calculated \n",
    "    expectation = np.zeros((noOfPoints,))\n",
    "    d = np.zeros((noOfPoints,))\n",
    "\n",
    "    # repeat optimization till the difference is greater than 0.1\n",
    "        ## expectation step\n",
    "        ### compute the expectation of each point given prev parameters\n",
    "        ### after each step, display the images with circle and expectation weights \n",
    "    \n",
    "    while((np.abs(prev_cx - new_cx) > 0.1) or (np.abs(prev_cy - new_cy) > 0.1) or (np.abs(prev_r - new_r) > 0.1)):\n",
    "        \n",
    "        prev_cx = new_cx\n",
    "        prev_cy = new_cy\n",
    "        prev_r = new_r\n",
    "\n",
    "        ## expectation step\n",
    "        ### compute the expectation of each point given prev parameters\n",
    "        for i in range(noOfPoints):\n",
    "\n",
    "            #TODO d[i] = ??\n",
    "            #TODO expectation[i] = ??\n",
    "            \n",
    "        exIm = np.zeros((im.shape[0], im.shape[1]))\n",
    "\n",
    "        #for i in range(len(cord)):\n",
    "        for i in range(noOfPoints):\n",
    "            r,c = np.unravel_index(cord[i], (im.shape[0], im.shape[1]))[1]\n",
    "            exIm[r,c] = expectation[i]\n",
    "\n",
    "        ## display the images with circle and expectation weights\n",
    "        fig, ax = plt.subplots(nrows=1,ncols=2, figsize=(10,5))\n",
    "        ax[0].imshow(rgb_im)\n",
    "        \n",
    "        circ = Circle( (prev_cx, prev_cy), radius=prev_r, fill = False )\n",
    "        ax[0].add_patch(circ)\n",
    "        ax[1].imshow(exIm)\n",
    "        ax[0].set_title(f'r = {np.around(prev_r, 2)}, cx = {np.around(prev_cx, 2)}, cy = {np.around(prev_cy, 2)}')\n",
    "        plt.show()\n",
    "\n",
    "        # maximization step\n",
    "        # ||WBu|| minimization\n",
    "        #TODO W = ??\n",
    "        #TODO B = ??\n",
    "\n",
    "        # use SVD to solve for u in ||WBu||\n",
    "        # use the vector with minimum eigen value\n",
    "                \n",
    "        # update center and radius\n",
    "        #TODO new_cx = ??\n",
    "        #TODO new_cy = ??\n",
    "        #TODO new_r = ??\n",
    "        \n",
    "        # update sigma\n",
    "        #TODO sigma = ??\n"
   ]
  },
  {
   "cell_type": "markdown",
   "metadata": {},
   "source": [
    "### Run your function for all disc images"
   ]
  },
  {
   "cell_type": "code",
   "execution_count": null,
   "metadata": {
    "scrolled": false
   },
   "outputs": [],
   "source": [
    "for image in os.listdir('discs'):\n",
    "    print(f'Image: {image}')\n",
    "    find_EM('discs/' + image)"
   ]
  },
  {
   "cell_type": "markdown",
   "metadata": {},
   "source": [
    "#### Animation that displays the process"
   ]
  },
  {
   "cell_type": "code",
   "execution_count": null,
   "metadata": {},
   "outputs": [],
   "source": [
    "from IPython.display import Video\n",
    "Video(\"images/SampleOutput.mov\")"
   ]
  }
 ],
 "metadata": {
  "kernelspec": {
   "display_name": "Python 3 (ipykernel)",
   "language": "python",
   "name": "python3"
  },
  "language_info": {
   "codemirror_mode": {
    "name": "ipython",
    "version": 3
   },
   "file_extension": ".py",
   "mimetype": "text/x-python",
   "name": "python",
   "nbconvert_exporter": "python",
   "pygments_lexer": "ipython3",
   "version": "3.7.6"
  }
 },
 "nbformat": 4,
 "nbformat_minor": 2
}
